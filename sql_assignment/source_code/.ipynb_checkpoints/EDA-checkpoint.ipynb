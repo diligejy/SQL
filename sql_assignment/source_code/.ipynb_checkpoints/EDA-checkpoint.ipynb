{
 "cells": [
  {
   "cell_type": "code",
   "execution_count": 1,
   "metadata": {},
   "outputs": [],
   "source": [
    "import pandas as pd"
   ]
  },
  {
   "cell_type": "code",
   "execution_count": 28,
   "metadata": {},
   "outputs": [
    {
     "name": "stderr",
     "output_type": "stream",
     "text": [
      "b'Skipping line 64: expected 4 fields, saw 5\\nSkipping line 65: expected 4 fields, saw 5\\nSkipping line 67: expected 4 fields, saw 5\\nSkipping line 84: expected 4 fields, saw 16\\nSkipping line 85: expected 4 fields, saw 5\\nSkipping line 88: expected 4 fields, saw 5\\nSkipping line 91: expected 4 fields, saw 5\\nSkipping line 108: expected 4 fields, saw 5\\nSkipping line 115: expected 4 fields, saw 5\\nSkipping line 117: expected 4 fields, saw 5\\nSkipping line 119: expected 4 fields, saw 5\\nSkipping line 120: expected 4 fields, saw 5\\nSkipping line 122: expected 4 fields, saw 5\\nSkipping line 124: expected 4 fields, saw 16\\nSkipping line 131: expected 4 fields, saw 5\\nSkipping line 138: expected 4 fields, saw 5\\nSkipping line 151: expected 4 fields, saw 5\\nSkipping line 152: expected 4 fields, saw 5\\nSkipping line 158: expected 4 fields, saw 5\\nSkipping line 180: expected 4 fields, saw 16\\nSkipping line 867: expected 4 fields, saw 15\\nSkipping line 882: expected 4 fields, saw 15\\nSkipping line 1011: expected 4 fields, saw 15\\nSkipping line 1113: expected 4 fields, saw 15\\nSkipping line 1369: expected 4 fields, saw 15\\nSkipping line 1370: expected 4 fields, saw 15\\nSkipping line 1432: expected 4 fields, saw 15\\nSkipping line 1451: expected 4 fields, saw 15\\nSkipping line 1484: expected 4 fields, saw 15\\nSkipping line 1505: expected 4 fields, saw 15\\nSkipping line 1648: expected 4 fields, saw 15\\nSkipping line 1672: expected 4 fields, saw 15\\nSkipping line 1703: expected 4 fields, saw 15\\nSkipping line 1839: expected 4 fields, saw 15\\nSkipping line 1849: expected 4 fields, saw 15\\nSkipping line 1855: expected 4 fields, saw 15\\nSkipping line 1866: expected 4 fields, saw 15\\nSkipping line 1879: expected 4 fields, saw 15\\nSkipping line 1920: expected 4 fields, saw 15\\nSkipping line 1929: expected 4 fields, saw 15\\nSkipping line 1950: expected 4 fields, saw 15\\nSkipping line 2042: expected 4 fields, saw 15\\nSkipping line 2068: expected 4 fields, saw 15\\nSkipping line 2097: expected 4 fields, saw 15\\nSkipping line 2099: expected 4 fields, saw 15\\nSkipping line 2141: expected 4 fields, saw 15\\nSkipping line 2142: expected 4 fields, saw 15\\nSkipping line 2143: expected 4 fields, saw 15\\nSkipping line 2144: expected 4 fields, saw 15\\nSkipping line 2145: expected 4 fields, saw 15\\nSkipping line 2169: expected 4 fields, saw 15\\nSkipping line 2211: expected 4 fields, saw 15\\nSkipping line 2230: expected 4 fields, saw 15\\nSkipping line 2290: expected 4 fields, saw 15\\nSkipping line 2324: expected 4 fields, saw 15\\nSkipping line 2356: expected 4 fields, saw 15\\nSkipping line 2380: expected 4 fields, saw 15\\nSkipping line 2430: expected 4 fields, saw 15\\nSkipping line 2711: expected 4 fields, saw 15\\nSkipping line 2712: expected 4 fields, saw 15\\nSkipping line 2713: expected 4 fields, saw 15\\nSkipping line 2714: expected 4 fields, saw 15\\nSkipping line 2715: expected 4 fields, saw 15\\nSkipping line 2716: expected 4 fields, saw 15\\nSkipping line 2717: expected 4 fields, saw 15\\nSkipping line 2718: expected 4 fields, saw 15\\nSkipping line 2719: expected 4 fields, saw 15\\nSkipping line 2720: expected 4 fields, saw 15\\nSkipping line 2721: expected 4 fields, saw 15\\nSkipping line 2722: expected 4 fields, saw 15\\nSkipping line 2724: expected 4 fields, saw 15\\nSkipping line 2725: expected 4 fields, saw 15\\nSkipping line 2726: expected 4 fields, saw 15\\nSkipping line 2727: expected 4 fields, saw 15\\nSkipping line 2728: expected 4 fields, saw 15\\nSkipping line 2729: expected 4 fields, saw 15\\nSkipping line 2730: expected 4 fields, saw 15\\nSkipping line 2731: expected 4 fields, saw 15\\nSkipping line 2732: expected 4 fields, saw 15\\nSkipping line 2733: expected 4 fields, saw 15\\nSkipping line 2734: expected 4 fields, saw 15\\nSkipping line 2735: expected 4 fields, saw 15\\nSkipping line 2736: expected 4 fields, saw 15\\nSkipping line 2737: expected 4 fields, saw 15\\nSkipping line 2738: expected 4 fields, saw 15\\nSkipping line 2739: expected 4 fields, saw 15\\nSkipping line 2740: expected 4 fields, saw 15\\nSkipping line 2741: expected 4 fields, saw 15\\nSkipping line 2742: expected 4 fields, saw 15\\nSkipping line 2743: expected 4 fields, saw 15\\nSkipping line 2744: expected 4 fields, saw 15\\nSkipping line 2747: expected 4 fields, saw 15\\nSkipping line 2748: expected 4 fields, saw 15\\nSkipping line 2749: expected 4 fields, saw 15\\nSkipping line 2750: expected 4 fields, saw 15\\nSkipping line 2751: expected 4 fields, saw 15\\nSkipping line 2752: expected 4 fields, saw 15\\nSkipping line 2753: expected 4 fields, saw 15\\nSkipping line 2754: expected 4 fields, saw 15\\nSkipping line 2755: expected 4 fields, saw 15\\nSkipping line 2756: expected 4 fields, saw 15\\nSkipping line 2757: expected 4 fields, saw 15\\nSkipping line 2758: expected 4 fields, saw 15\\nSkipping line 2759: expected 4 fields, saw 15\\nSkipping line 2809: expected 4 fields, saw 15\\nSkipping line 2815: expected 4 fields, saw 15\\nSkipping line 2867: expected 4 fields, saw 15\\nSkipping line 2868: expected 4 fields, saw 15\\nSkipping line 3021: expected 4 fields, saw 15\\nSkipping line 3179: expected 4 fields, saw 15\\nSkipping line 3184: expected 4 fields, saw 15\\nSkipping line 3192: expected 4 fields, saw 15\\nSkipping line 3379: expected 4 fields, saw 15\\nSkipping line 3618: expected 4 fields, saw 15\\nSkipping line 3661: expected 4 fields, saw 15\\nSkipping line 3769: expected 4 fields, saw 15\\nSkipping line 3852: expected 4 fields, saw 15\\nSkipping line 3879: expected 4 fields, saw 15\\nSkipping line 3880: expected 4 fields, saw 15\\nSkipping line 4038: expected 4 fields, saw 15\\nSkipping line 4039: expected 4 fields, saw 15\\nSkipping line 4041: expected 4 fields, saw 15\\nSkipping line 4042: expected 4 fields, saw 15\\nSkipping line 4043: expected 4 fields, saw 15\\nSkipping line 4044: expected 4 fields, saw 15\\nSkipping line 4046: expected 4 fields, saw 15\\nSkipping line 4047: expected 4 fields, saw 15\\nSkipping line 4049: expected 4 fields, saw 15\\nSkipping line 4050: expected 4 fields, saw 15\\nSkipping line 4052: expected 4 fields, saw 15\\nSkipping line 4054: expected 4 fields, saw 15\\nSkipping line 4255: expected 4 fields, saw 15\\nSkipping line 4340: expected 4 fields, saw 15\\nSkipping line 4352: expected 4 fields, saw 15\\nSkipping line 4492: expected 4 fields, saw 15\\nSkipping line 4605: expected 4 fields, saw 15\\nSkipping line 4640: expected 4 fields, saw 15\\nSkipping line 4649: expected 4 fields, saw 15\\nSkipping line 4650: expected 4 fields, saw 15\\nSkipping line 4656: expected 4 fields, saw 15\\nSkipping line 4671: expected 4 fields, saw 15\\nSkipping line 4692: expected 4 fields, saw 15\\nSkipping line 4795: expected 4 fields, saw 15\\nSkipping line 4796: expected 4 fields, saw 15\\nSkipping line 4808: expected 4 fields, saw 15\\nSkipping line 4815: expected 4 fields, saw 15\\nSkipping line 4822: expected 4 fields, saw 15\\nSkipping line 4879: expected 4 fields, saw 15\\nSkipping line 4886: expected 4 fields, saw 15\\nSkipping line 4887: expected 4 fields, saw 15\\nSkipping line 4914: expected 4 fields, saw 15\\nSkipping line 4924: expected 4 fields, saw 15\\nSkipping line 4929: expected 4 fields, saw 15\\nSkipping line 4945: expected 4 fields, saw 15\\nSkipping line 4994: expected 4 fields, saw 15\\nSkipping line 5052: expected 4 fields, saw 15\\nSkipping line 5099: expected 4 fields, saw 15\\nSkipping line 5155: expected 4 fields, saw 15\\nSkipping line 5181: expected 4 fields, saw 15\\nSkipping line 5193: expected 4 fields, saw 15\\nSkipping line 5246: expected 4 fields, saw 15\\nSkipping line 5298: expected 4 fields, saw 15\\nSkipping line 5323: expected 4 fields, saw 15\\nSkipping line 5346: expected 4 fields, saw 15\\nSkipping line 5363: expected 4 fields, saw 15\\nSkipping line 5401: expected 4 fields, saw 15\\nSkipping line 5405: expected 4 fields, saw 15\\nSkipping line 5425: expected 4 fields, saw 15\\nSkipping line 5491: expected 4 fields, saw 15\\nSkipping line 5526: expected 4 fields, saw 15\\nSkipping line 5533: expected 4 fields, saw 15\\nSkipping line 5582: expected 4 fields, saw 15\\nSkipping line 5594: expected 4 fields, saw 15\\nSkipping line 5627: expected 4 fields, saw 15\\nSkipping line 5657: expected 4 fields, saw 15\\nSkipping line 5675: expected 4 fields, saw 15\\nSkipping line 5726: expected 4 fields, saw 15\\nSkipping line 5743: expected 4 fields, saw 15\\nSkipping line 5748: expected 4 fields, saw 15\\nSkipping line 5751: expected 4 fields, saw 15\\nSkipping line 5785: expected 4 fields, saw 15\\nSkipping line 5803: expected 4 fields, saw 15\\nSkipping line 5811: expected 4 fields, saw 15\\nSkipping line 5814: expected 4 fields, saw 15\\nSkipping line 5824: expected 4 fields, saw 15\\nSkipping line 5862: expected 4 fields, saw 15\\nSkipping line 5897: expected 4 fields, saw 15\\nSkipping line 5955: expected 4 fields, saw 15\\nSkipping line 5991: expected 4 fields, saw 15\\nSkipping line 5994: expected 4 fields, saw 15\\nSkipping line 6012: expected 4 fields, saw 15\\nSkipping line 6035: expected 4 fields, saw 15\\nSkipping line 6038: expected 4 fields, saw 15\\nSkipping line 6085: expected 4 fields, saw 15\\nSkipping line 6091: expected 4 fields, saw 15\\nSkipping line 6153: expected 4 fields, saw 15\\nSkipping line 6155: expected 4 fields, saw 15\\nSkipping line 6162: expected 4 fields, saw 15\\nSkipping line 6166: expected 4 fields, saw 15\\nSkipping line 6211: expected 4 fields, saw 15\\nSkipping line 6228: expected 4 fields, saw 15\\nSkipping line 6243: expected 4 fields, saw 15\\nSkipping line 6248: expected 4 fields, saw 15\\nSkipping line 6281: expected 4 fields, saw 15\\nSkipping line 6368: expected 4 fields, saw 15\\nSkipping line 6402: expected 4 fields, saw 15\\nSkipping line 6427: expected 4 fields, saw 15\\nSkipping line 6557: expected 4 fields, saw 15\\nSkipping line 6577: expected 4 fields, saw 15\\nSkipping line 6588: expected 4 fields, saw 15\\nSkipping line 6710: expected 4 fields, saw 15\\nSkipping line 6743: expected 4 fields, saw 15\\nSkipping line 6831: expected 4 fields, saw 15\\nSkipping line 6852: expected 4 fields, saw 15\\nSkipping line 6888: expected 4 fields, saw 15\\nSkipping line 6891: expected 4 fields, saw 15\\nSkipping line 6894: expected 4 fields, saw 15\\nSkipping line 6896: expected 4 fields, saw 15\\nSkipping line 6900: expected 4 fields, saw 15\\nSkipping line 6908: expected 4 fields, saw 15\\nSkipping line 6915: expected 4 fields, saw 15\\n'\n"
     ]
    }
   ],
   "source": [
    "place_category = pd.read_csv('../dataset/place_category.csv', error_bad_lines=False)"
   ]
  },
  {
   "cell_type": "code",
   "execution_count": 26,
   "metadata": {},
   "outputs": [],
   "source": [
    "activity = pd.read_csv('../dataset/activity.csv')\n",
    "claim_policy = pd.read_csv('../dataset/claim_policy.csv')\n",
    "payable_point_policy = pd.read_csv('../dataset/payable_point_policy.csv')\n",
    "place = pd.read_csv('../dataset/place.csv')\n",
    "points_expiration_schedule = pd.read_csv('../dataset/points_expiration_schedule.csv')\n",
    "purchase = pd.read_csv('../dataset/purchase.csv')\n",
    "user_group = pd.read_csv('../dataset/usage_group.csv')\n",
    "user = pd.read_csv('../dataset/user.csv')"
   ]
  },
  {
   "cell_type": "code",
   "execution_count": 36,
   "metadata": {},
   "outputs": [],
   "source": [
    "place_category = place_category.rename(columns={\"219\" : \"idx\", \"{F&B\": \"FnB\", \"카페\" : 'cafe', \"커피전문점}\": 'coffee_special_shop'})"
   ]
  },
  {
   "cell_type": "code",
   "execution_count": 37,
   "metadata": {},
   "outputs": [
    {
     "data": {
      "text/html": [
       "<div>\n",
       "<style scoped>\n",
       "    .dataframe tbody tr th:only-of-type {\n",
       "        vertical-align: middle;\n",
       "    }\n",
       "\n",
       "    .dataframe tbody tr th {\n",
       "        vertical-align: top;\n",
       "    }\n",
       "\n",
       "    .dataframe thead th {\n",
       "        text-align: right;\n",
       "    }\n",
       "</style>\n",
       "<table border=\"1\" class=\"dataframe\">\n",
       "  <thead>\n",
       "    <tr style=\"text-align: right;\">\n",
       "      <th></th>\n",
       "      <th>idx</th>\n",
       "      <th>FnB</th>\n",
       "      <th>cafe</th>\n",
       "      <th>coffee_special_shop</th>\n",
       "    </tr>\n",
       "  </thead>\n",
       "  <tbody>\n",
       "    <tr>\n",
       "      <th>0</th>\n",
       "      <td>533</td>\n",
       "      <td>{F&amp;B</td>\n",
       "      <td>한식}</td>\n",
       "      <td>NaN</td>\n",
       "    </tr>\n",
       "    <tr>\n",
       "      <th>1</th>\n",
       "      <td>534</td>\n",
       "      <td>{F&amp;B</td>\n",
       "      <td>한식}</td>\n",
       "      <td>NaN</td>\n",
       "    </tr>\n",
       "    <tr>\n",
       "      <th>2</th>\n",
       "      <td>536</td>\n",
       "      <td>{F&amp;B</td>\n",
       "      <td>한식}</td>\n",
       "      <td>NaN</td>\n",
       "    </tr>\n",
       "    <tr>\n",
       "      <th>3</th>\n",
       "      <td>537</td>\n",
       "      <td>{F&amp;B</td>\n",
       "      <td>한식}</td>\n",
       "      <td>NaN</td>\n",
       "    </tr>\n",
       "    <tr>\n",
       "      <th>4</th>\n",
       "      <td>538</td>\n",
       "      <td>{F&amp;B</td>\n",
       "      <td>한식}</td>\n",
       "      <td>NaN</td>\n",
       "    </tr>\n",
       "    <tr>\n",
       "      <th>...</th>\n",
       "      <td>...</td>\n",
       "      <td>...</td>\n",
       "      <td>...</td>\n",
       "      <td>...</td>\n",
       "    </tr>\n",
       "    <tr>\n",
       "      <th>6690</th>\n",
       "      <td>8730</td>\n",
       "      <td>{F&amp;B</td>\n",
       "      <td>한식}</td>\n",
       "      <td>NaN</td>\n",
       "    </tr>\n",
       "    <tr>\n",
       "      <th>6691</th>\n",
       "      <td>8733</td>\n",
       "      <td>{F&amp;B</td>\n",
       "      <td>카페</td>\n",
       "      <td>커피전문점}</td>\n",
       "    </tr>\n",
       "    <tr>\n",
       "      <th>6692</th>\n",
       "      <td>8737</td>\n",
       "      <td>{F&amp;B</td>\n",
       "      <td>술집</td>\n",
       "      <td>와인바/칵테일바}</td>\n",
       "    </tr>\n",
       "    <tr>\n",
       "      <th>6693</th>\n",
       "      <td>8766</td>\n",
       "      <td>{F&amp;B</td>\n",
       "      <td>일식}</td>\n",
       "      <td>NaN</td>\n",
       "    </tr>\n",
       "    <tr>\n",
       "      <th>6694</th>\n",
       "      <td>8800</td>\n",
       "      <td>{시설</td>\n",
       "      <td>여가시설</td>\n",
       "      <td>게임방/PC방}</td>\n",
       "    </tr>\n",
       "  </tbody>\n",
       "</table>\n",
       "<p>6695 rows × 4 columns</p>\n",
       "</div>"
      ],
      "text/plain": [
       "       idx   FnB  cafe coffee_special_shop\n",
       "0      533  {F&B   한식}                 NaN\n",
       "1      534  {F&B   한식}                 NaN\n",
       "2      536  {F&B   한식}                 NaN\n",
       "3      537  {F&B   한식}                 NaN\n",
       "4      538  {F&B   한식}                 NaN\n",
       "...    ...   ...   ...                 ...\n",
       "6690  8730  {F&B   한식}                 NaN\n",
       "6691  8733  {F&B    카페              커피전문점}\n",
       "6692  8737  {F&B    술집           와인바/칵테일바}\n",
       "6693  8766  {F&B   일식}                 NaN\n",
       "6694  8800   {시설  여가시설            게임방/PC방}\n",
       "\n",
       "[6695 rows x 4 columns]"
      ]
     },
     "execution_count": 37,
     "metadata": {},
     "output_type": "execute_result"
    }
   ],
   "source": [
    "place_category"
   ]
  },
  {
   "cell_type": "code",
   "execution_count": null,
   "metadata": {},
   "outputs": [],
   "source": []
  },
  {
   "cell_type": "code",
   "execution_count": null,
   "metadata": {},
   "outputs": [],
   "source": []
  },
  {
   "cell_type": "code",
   "execution_count": null,
   "metadata": {},
   "outputs": [],
   "source": []
  },
  {
   "cell_type": "code",
   "execution_count": null,
   "metadata": {},
   "outputs": [],
   "source": []
  },
  {
   "cell_type": "code",
   "execution_count": null,
   "metadata": {},
   "outputs": [],
   "source": []
  }
 ],
 "metadata": {
  "kernelspec": {
   "display_name": "Python 3",
   "language": "python",
   "name": "python3"
  },
  "language_info": {
   "codemirror_mode": {
    "name": "ipython",
    "version": 3
   },
   "file_extension": ".py",
   "mimetype": "text/x-python",
   "name": "python",
   "nbconvert_exporter": "python",
   "pygments_lexer": "ipython3",
   "version": "3.8.5"
  }
 },
 "nbformat": 4,
 "nbformat_minor": 4
}
